{
 "cells": [
  {
   "cell_type": "markdown",
   "id": "b1692638",
   "metadata": {},
   "source": [
    "# Gold Layer: Use-Case-Specific Output (BI)\n",
    "\n",
    "🎯 **Goal**: Build specific outputs for reporting\n",
    "\n",
    "🔧 **Tasks a data engineer performs for BI:**\n",
    "- Read from silver dataset\n",
    "- Group and aggregate data \n",
    "- Apply business logic \n",
    "- Join with enrichment data\n",
    "- Format columns for consumption\n",
    "- Write output to dataset in gold layer > this will be used by tools like PowerBI."
   ]
  },
  {
   "cell_type": "markdown",
   "id": "caab981a",
   "metadata": {},
   "source": [
    "### 📊 This notebook: Gold Layer – Business Intelligence Summary\n",
    "\n",
    "In this notebook, we:\n",
    "\n",
    "- Load cleaned Pokémon data from the silver Delta table\n",
    "- Group Pokémon by `type` and calculate summary statistics:\n",
    "  - Average `height`, `weight`, and `base_experience`\n",
    "  - Total count of Pokémon per type\n",
    "- Apply any custom logic for labeling or KPIs (optional)\n",
    "- Save the aggregated data to the **gold layer** at `./data/gold/bi_summary`\n",
    "\n",
    "🥇 This gold layer is optimized for **dashboards and reporting tools** like Power BI."
   ]
  }
 ],
 "metadata": {
  "language_info": {
   "name": "python"
  }
 },
 "nbformat": 4,
 "nbformat_minor": 5
}
