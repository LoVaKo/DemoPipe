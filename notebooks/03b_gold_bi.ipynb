{
 "cells": [
  {
   "cell_type": "markdown",
   "id": "b1692638",
   "metadata": {},
   "source": [
    "# Gold Layer: Use-Case-Specific Output (BI)\n",
    "\n",
    "🎯 **Goal**: Build specific outputs for reporting\n",
    "\n",
    "🔧 **Tasks a data engineer performs for BI:**\n",
    "- Read from silver dataset\n",
    "- Group and aggregate data \n",
    "- Apply business logic \n",
    "- Join with enrichment data\n",
    "- Format columns for consumption\n",
    "- Write output to dataset in gold layer > this will be used by tools like PowerBI."
   ]
  }
 ],
 "metadata": {
  "language_info": {
   "name": "python"
  }
 },
 "nbformat": 4,
 "nbformat_minor": 5
}
