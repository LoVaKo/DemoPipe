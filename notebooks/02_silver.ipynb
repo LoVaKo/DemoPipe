{
 "cells": [
  {
   "cell_type": "markdown",
   "id": "24d9d1a4",
   "metadata": {},
   "source": [
    "# Silver Layer - Clean and Structure the Data\n",
    "\n",
    "🎯 **Goal**: Make the data clean, consistent, and usable for downstream tasks\n",
    "\n",
    "🔧 **Tasks a data engineer performs**:\n",
    "- Read from the bronze layer\n",
    "- Flatten nested structures (e.g. explode arrays)\n",
    "- Drop invalid or duplicate rows\n",
    "- Convert data types to the correct formats (e.g., height as float)\n",
    "- Rename columns for clarity or consistency\n",
    "- Store result as a new dataset"
   ]
  }
 ],
 "metadata": {
  "language_info": {
   "name": "python"
  }
 },
 "nbformat": 4,
 "nbformat_minor": 5
}
