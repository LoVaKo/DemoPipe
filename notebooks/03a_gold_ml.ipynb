{
 "cells": [
  {
   "cell_type": "markdown",
   "id": "0318eaa4",
   "metadata": {},
   "source": [
    "# Gold Layer: Use-Case-Specific Output (ML)\n",
    "\n",
    "🎯 **Goal**: Build specific outputs for machine learning\n",
    "\n",
    "🔧 **Tasks a data engineer performs for ML:**\n",
    "- Read from silver dataset\n",
    "- Perform feature engineering: select and transform relevant columns\n",
    "- Prepare a label column for ML (e.g. Pokémon type)\n",
    "- Train a model using MLlib (e.g., Logistic Regression)\n",
    "- Write predictions + probabilities to a gold Delta table"
   ]
  },
  {
   "cell_type": "markdown",
   "id": "d746c992",
   "metadata": {},
   "source": [
    "### 🤖 This notebook: Gold Layer – Machine Learning Model\n",
    "\n",
    "In this notebook, we:\n",
    "\n",
    "- Load cleaned Pokémon data from the silver Delta table\n",
    "- Perform **feature engineering** using `height`, `weight`, and `base_experience`\n",
    "- Use `type` as the **label column** for supervised learning\n",
    "- Train a **Logistic Regression model** to predict a Pokémon’s type\n",
    "- Generate predictions and probability scores\n",
    "- Save the model output to the **gold layer** at `./data/gold/predictions`\n",
    "\n",
    "🥇 This gold layer is tailored for a machine learning use case: predicting Pokémon types from features.\n"
   ]
  }
 ],
 "metadata": {
  "language_info": {
   "name": "python"
  }
 },
 "nbformat": 4,
 "nbformat_minor": 5
}
