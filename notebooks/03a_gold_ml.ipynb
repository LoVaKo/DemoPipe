{
 "cells": [
  {
   "cell_type": "markdown",
   "id": "0318eaa4",
   "metadata": {},
   "source": [
    "# Gold Layer: Use-Case-Specific Output (ML)\n",
    "\n",
    "🎯 **Goal**: Build specific outputs for machine learning\n",
    "\n",
    "🔧 **Tasks a data engineer performs for ML:**\n",
    "- Read from silver dataset\n",
    "- Perform feature engineering: select and transform relevant columns\n",
    "- Prepare a label column for ML (e.g. Pokémon type)\n",
    "- Train a model using MLlib (e.g., Logistic Regression)\n",
    "- Write predictions + probabilities to a gold Delta table"
   ]
  }
 ],
 "metadata": {
  "language_info": {
   "name": "python"
  }
 },
 "nbformat": 4,
 "nbformat_minor": 5
}
