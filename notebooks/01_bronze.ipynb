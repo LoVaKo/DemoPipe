{
 "cells": [
  {
   "cell_type": "markdown",
   "id": "2705259a",
   "metadata": {},
   "source": [
    "# Bronze Layer: Raw Data Ingestion\n",
    "🎯 **Goal**: Collect and store the raw data exactly as it comes in\n",
    "\n",
    "🔧 **Tasks a data engineer performs:**\n",
    "- Write Python or Spark code to pull data from a source (API, file, database)\n",
    "- Validate basic connectivity (check API responses, handle errors)\n",
    "- Convert the raw response (e.g. JSON) to a DataFrame\n",
    "- Store the data in a raw Delta table (or Parquet/CSV in simpler setups)\n",
    "- Include basic metadata (e.g. ingestion timestamp)"
   ]
  },
  {
   "cell_type": "markdown",
   "id": "6ff12b10",
   "metadata": {},
   "source": [
    "### 📥 This notebook: Bronze Layer – Raw Pokémon Data Ingestion\n",
    "\n",
    "In this notebook, we:\n",
    "\n",
    "- Collect data from the [PokéAPI](https://pokeapi.co/) for the first 150 Pokémon\n",
    "- Extract selected fields from the JSON response:\n",
    "  - `id`, `name`, `height`, `weight`, `base_experience`, and `types`\n",
    "- Convert the API responses into a Spark DataFrame\n",
    "- Save the raw data to a Delta table in the **bronze layer** at `./data/bronze/pokemon`\n",
    "\n",
    "🟫 No transformations are applied — we store the data as-is to preserve its original structure.\n"
   ]
  }
 ],
 "metadata": {
  "language_info": {
   "name": "python"
  }
 },
 "nbformat": 4,
 "nbformat_minor": 5
}
